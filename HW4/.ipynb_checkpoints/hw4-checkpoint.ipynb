{
 "cells": [
  {
   "cell_type": "markdown",
   "metadata": {},
   "source": [
    "## Home Assignment No. 4: Part 1 (Practice)\n",
    "To solve this task, you will write some code to try random **recurrent neural networks** in action. This part of the assignment is a simple practice with pytorch.\n",
    "* You are **HIGHLY RECOMMENDED** to read relevant documentation, e.g. for [python](https://docs.python.org/3/), [numpy](https://docs.scipy.org/doc/numpy/reference/), [matlpotlib](https://matplotlib.org/) and [pytorch](http://pytorch.org). Also remember that seminars, lecture slides, [Google](http://google.com) and [StackOverflow](https://stackoverflow.com/) are your close friends during this course (and, probably, whole life?).\n",
    "\n",
    "* In some problems you are asked to provide short discussion of the results. In these cases you have to create **MARKDOWN** cell with your comments right after the corresponding code cell.\n",
    "\n",
    "* For every separate (sub)problem you can get only 0 points or maximal points for this problem. There are **NO INTERMEDIATE scores**. So make sure that you did everything required in the task\n",
    "\n",
    "* Your **SOLUTION** notebook **MUST BE REPRODUCIBLE**, i.e. if the reviewer decides to execute all, after all the computation he will obtain exactly the same solution (with all the corresponding plots) as in your uploaded notebook.\n",
    "\n",
    "* Your code must be clear to the reviewer. For this purpose, try to include neccessary comments inside the code. But remember: **GOOD CODE MUST BE SELF-EXPLANATORY** without any additional comments.\n",
    "\n",
    "## Recurrent Neural Networks\n",
    "\n",
    "During the seminar, we worked on building an intution for RNNs. We saw that they are very powerful techniques and compared to ARMA methods, where some assumptions must hold to apply the model, RNNs can be applied on sequential data as blackboxes and lead to good results.\n",
    "\n",
    "Recurrent Neural Networks (RNN) can read inputs $x^{\\langle t \\rangle}$ one by one. Through the hidden layer activations, they can \"remember\" some information. The RNN can pass it to the next step, in the case of the unidirectional RNN, or to previous and future steps in the bidirectional RNN.\n",
    "\n",
    "Before continuing, we should define some notation:\n",
    "* $[l]$ represents an object associated with the $l^{th}$ layer. \n",
    "* Whereas $(i)$ denotes an object associated with the $i^{th}$ example. \n",
    "\n",
    "- Superscript $\\langle t \\rangle$ denotes an object at the $t^{th}$ time-step. \n",
    "    \n",
    "- **Sub**script $i$ denotes the $i^{th}$ entry of a vector.\n",
    "\n",
    "Example:  \n",
    "- $a^{(2)[3]<4>}_5$ denotes the activation of the 2nd training example (2), 3rd layer [3], 4th time step <4>, and 5th entry in the vector.\n",
    "\n",
    "We first define some functions that will be helpful for us in the next steps:"
   ]
  },
  {
   "cell_type": "code",
   "execution_count": null,
   "metadata": {},
   "outputs": [],
   "source": [
    "import torch\n",
    "import numpy as np\n",
    "import matplotlib.pyplot as plt\n",
    "%matplotlib inline"
   ]
  },
  {
   "cell_type": "code",
   "execution_count": null,
   "metadata": {},
   "outputs": [],
   "source": [
    "def softmax(x):\n",
    "    e_x = torch.exp(x - torch.max(x))\n",
    "    return e_x / e_x.sum(axis=0)"
   ]
  },
  {
   "cell_type": "markdown",
   "metadata": {},
   "source": [
    "The RNN can be intuitively understood as following"
   ]
  },
  {
   "cell_type": "markdown",
   "metadata": {},
   "source": [
    "<img src=\"RNN_1.gif\" style=\"width:500;height:300px;\">\n",
    "<caption><center>Figure 1: The Recurrent Neural Network</center></caption>"
   ]
  },
  {
   "cell_type": "markdown",
   "metadata": {},
   "source": [
    "Let's discuss this implementation more in detail.\n",
    "## Inputs and outputs of a RNN\n",
    "We start with the two input vectors of the RNN, the input vector and the hidden state.\n",
    "### Input $x$\n",
    "The number of units is represented as $n_x$. It can be understood as the number of units in a single timestep of a single training example.\n",
    "\n",
    "A timestep in a single input example is represented as $x^{(i) \\langle t \\rangle }$. The timesteps are indexed as $t$. Normally, a single training example $x^{(i)}$ will consist of multiple time steps $T_x$.\n",
    "\n",
    "The training examples are grouped into so-called mini batches $x$ of size $m$. Thus, the shape of a mini batch is $(n_x,m,T_x)$. $x$ is thus a 3-dimension tensor and this will be our input into the RNN.\n",
    "\n",
    "As we will be working with mini-batches of training examples, we will need a 2D slide $x^{\\langle t \\rangle}$ of the same shape of our mini batch, $(n_x, m)$. In our implementation, this will be the variable `xt`.\n",
    "### Hidden State $a$\n",
    "The second input required in a RNN is the hidden state $a^{\\langle t \\rangle}$, an activation function. The hidden state is passed from one step to the next. It shares similarities with our input vector $x$. \n",
    "\n",
    "For example, it has a length $n_{a}$, and if we include a mini-batch of size $m$, the shape of the mini-batch will be $(n_{a},m)$. The hidden state also makes use of the same index $t$ to iterate and on each loop it uses a 2D slice $a^{\\langle t \\rangle}$ of shape $(n_{a}, m)$.\n",
    "\n",
    "In our implementation, we will have two variables for the hidden state. They will be called `a_prev` and `a_next`.\n",
    "Similarly, on each step, we produce an output vector.\n",
    "### Output $\\hat{y}$\n",
    "The ouput $\\hat{y}$ is also a 3D tensor. Its shape is $(n_{y}, m, T_{y})$, where $n_{y}$ represents the number of units in the vector representing the prediction. As it is the case with the input, $m$ reflects the number of examples in the mini batch and $T_{y}$ the number of steps in the prediction. In our implementation, we will be defining this variable as `y_pred`.\n",
    "\n",
    "If we go more in depth and look at a single time step $t$, we have a 2D slice $\\hat{y}^{\\langle t \\rangle}$ with shape $(n_{y}, m)$. Similarly, the variable in our code for this 2D slice will be called `yt_pred`.\n",
    "## The RNN cell\n",
    "In the animation above, we see that the RNN model consists basically of looping over a single cell over the index $t$. As we outlined above, we take the input consisting of two vectors, the current input $x^{\\langle t \\rangle}$, and the previous hidden state $a^{\\langle t - 1\\rangle}$. \n",
    "At the same time, we will be passing to the next RNN cell two outputs. They are the hidden state  $a^{\\langle t \\rangle}$ and the prediction $\\hat{y}^{\\langle t \\rangle}$.\n",
    "Let's start by implementing the RNN cell!\n",
    "## Task 1. Simple Cell (4 points)\n",
    "In this task, you will have 4 individual exercises:\n",
    "* **(1 pt.)** First, start by implementing the hidden state $a$ with the tanh activation function. It is defined as \n",
    "$$\n",
    "\\begin{align}\n",
    "a^{\\langle t \\rangle} = \\tanh(W_{aa} a^{\\langle t-1 \\rangle} + W_{ax} x^{\\langle t \\rangle} + b_a).\n",
    "\\end{align}\n",
    "$$\n",
    "* **(1 pt.)** Second, use the obtained result in the first task to compute the prediction \n",
    "$$\n",
    "\\begin{align}\n",
    "\\hat{y}^{\\langle t \\rangle} = softmax(W_{ya} a^{\\langle t \\rangle} + b_y).\n",
    "\\end{align}\n",
    "$$\n",
    "* **(1 pt.)** Third, proceceed to store the tuple $(a^{\\langle t \\rangle}, a^{\\langle t-1 \\rangle}, x^{\\langle t \\rangle}, parameters)$ in a `accumulator` variable.\n",
    "* **(1 pt.)** Fourth return `accumulator` and $a^{\\langle t \\rangle}$ , $\\hat{y}^{\\langle t \\rangle}$.\n",
    "The function to implement consists of the following arguments:\n",
    "* `xt` - This is the input data at timestep $t$, a pytorch tensor of shape $(n_x, m)$\n",
    "* `a_prev` - Hidden state at timestep \"t-1\", a pytorch tensor of shape $(n_a, m)$\n",
    "* `parameters` - This is a python dictionary. It consists of five keys:\n",
    "* - Wax - The weight matrix multiplying the input $x$ with shape $(n_a, n_x)$\n",
    "* - Waa - The meight matrix multiplying the hidden state $a$ with shape $(n_a, n_a)$\n",
    "* - Wya - The weight matrix for the hidden-state to the output with shape $(n_y, n_a)$\n",
    "* - ba -  Represents the bias with shape $(n_a, 1)$\n",
    "* - by -  Similarly, this is the bias for the hidden-state to the output. It has a shape $(n_y, 1)$\n",
    "    \n",
    "The function must return the following variables:\n",
    "* `a_next` - This is the next hidden state with shape $(n_a, m)$\n",
    "* `yt_pred` - It is the prediction at timestep $t$ with shape $(n_y, m)$\n",
    "* `accumulator` - A tuple of values required for the backward pass. The tuple must contain (`a_next`, `a_prev`, `xt`, `parameters`)"
   ]
  },
  {
   "cell_type": "code",
   "execution_count": null,
   "metadata": {},
   "outputs": [],
   "source": [
    "def rnn_cell_forward(xt, a_prev, parameters):    \n",
    "\n",
    "    Wax = parameters[\"Wax\"]\n",
    "    Waa = parameters[\"Waa\"]\n",
    "    Wya = parameters[\"Wya\"]\n",
    "    ba = parameters[\"ba\"]\n",
    "    by = parameters[\"by\"]\n",
    "    \n",
    "    ### WRITE SOLUTION HERE ###\n",
    "    \n",
    "    \n",
    "    ### WRITE SOLUTION HERE ###"
   ]
  },
  {
   "cell_type": "markdown",
   "metadata": {},
   "source": [
    "Let's put our implementation to test! For this, we will define a time series with seasonality using the functions below"
   ]
  },
  {
   "cell_type": "markdown",
   "metadata": {},
   "source": [
    "Let's also define some variables to control our series"
   ]
  },
  {
   "cell_type": "markdown",
   "metadata": {},
   "source": [
    "## The RNN Forward Pass\n",
    "In the previous task, we computed one iteration of a RNN cells. However, the RNN consists of a repetition of RNN cells. For each step in index $t$, we have to use the RNN cell again. \n",
    "\n",
    "Let's not forget that on each step, the RNN cell takes two inputs, the current input data $x^{\\langle t \\rangle}$ and the hidden state from the previous cell, $a^{\\langle t-1 \\rangle}$. The output, therefore, has to be two vectors, the prediction ($y^{\\langle t \\rangle}$) and the hidden state ($a^{\\langle t \\rangle}$). If you remember our previous task, we defined a set of weights and biases named $(W_{aa}, b_{a}, W_{ax}, b_{x})$. They will be used on each time step as well.\n",
    "\n",
    "Let's implement a forward pass for our RNN!\n",
    "\n",
    "## Task 2. Go Forward (1+1+1+1+1=5 points)\n",
    "This task will consist of 5 simple exercises. They are the following:\n",
    "* **(1 pt.)** First, initializing a 3D array $a$ with zeros. It must have the shape $(n_{a}, m, T_{x})$. This array must store all the hidden states computed by our RNN\n",
    "* **(1 pt.)** Second, similarly, we will need a 3D array to store the predictions. The array $\\hat{y}$ must have the same shape as the array $a$, this means a shape $(n_{y}, m, T_{x})$\n",
    "* **(1 pt.)** Third, please create the 2D hidden state `a_next`. For this, you must set it equal to $a_{0}$, the initial hidden state.\n",
    "* **(1 pt.)** Fourth, you must iterate through each step $t$. In each loop, the RNN must do the following:\n",
    "* - Retrieve $x^{\\langle t \\rangle}$ with shape $(n_{x}, m)$. This is the 2D slide of $x$ at a time step $t$\n",
    "* - Call the function `rnn_cell_forward` to update:\n",
    "* -- the hidden state `a_next` with shape $(n_{a}, m)$\n",
    "* -- the prediction $\\hat{y}^{\\langle t \\rangle}$\n",
    "* -- and the accumulator\n",
    "* - At the $t^{th}$ position:\n",
    "* -- Store the 2D hidden state in the 3D tensor $a$ with shape $(n_{a}, m, T_{x})$\n",
    "* -- Store the 2D prediction `yt_pred` with shape $(n_{y}, m)$ in the 3D tensor $\\hat{y}_{pred}$ with shape $(n_{y}, m, T_x)$\n",
    "* - Append the accumulator to a list of accumulators\n",
    "* - Store the input data `yt_pred` and the list of accumulator into a tuple `acc`\n",
    "* **(1 pt.)** Fifth, return three variables, the tuple `acc`, the 3D tensor $a$ and $\\hat{y}$\n",
    "\n",
    "Let's remember that to implement the function rnn_forward, we have access to the following variables and parameters:\n",
    "* `x` - This is the input data for all time steps, a pytorch tensor of shape $(n_x, m, T_x)$\n",
    "* `a0` - The initial hidden state at timestep \"0\", a pytorch tensor of shape $(n_a, m)$\n",
    "* `parameters` - This is a python dictionary. It consists of five keys:\n",
    "* - Wax - The weight matrix multiplying the input $x$ with shape $(n_a, n_x)$\n",
    "* - Waa - The meight matrix multiplying the hidden state $a$ with shape $(n_a, n_a)$\n",
    "* - Wya - The weight matrix for the hidden-state to the output with shape $(n_y, n_a)$\n",
    "* - ba -  Represents the bias with shape $(n_a, 1)$\n",
    "* - by -  Similarly, this is the bias for the hidden-state to the output. It has a shape $(n_y, 1)$\n",
    "    \n",
    "The function must return the following variables:\n",
    "* `a` - This is the next hidden state for all time steps with shape $(n_a, m,T_x)$\n",
    "* `y_pred` - It is the prediction for all time steps with shape $(n_y, m, T_x)$\n",
    "* `acc` - A tuple of values required for the backward pass. The tuple must contain (list of accumulators, x)"
   ]
  },
  {
   "cell_type": "code",
   "execution_count": null,
   "metadata": {},
   "outputs": [],
   "source": [
    "def rnn_forward(x, a0, parameters):\n",
    "    \n",
    "    list_accumulators = []\n",
    "    n_x, m, T_x = x.shape\n",
    "    n_y, n_a = parameters[\"Wya\"].shape\n",
    "    \n",
    "    ### WRITE SOLUTION HERE ###\n",
    "    \n",
    " \n",
    "        \n",
    "    ### WRITE SOLUTION HERE ###"
   ]
  },
  {
   "cell_type": "markdown",
   "metadata": {},
   "source": [
    "## Task 3. Random RNN (1 point)\n",
    "Now that you have defined `rnn_cell_forward` and `rnn_forward`, let's test it with our data and inspect the results. This task consists of three exercises:\n",
    "* **(1 pt.)** First, initialize the RNN cell with the `series` provided above with $x$ of shape $(3, 10, 4)$. Remember also to define random values for the hidden layer $a$ and the weights and biases in the dictionary of parameters. Verify the output by printing `y_pred[1]` and the shape of `y_pred`."
   ]
  },
  {
   "cell_type": "code",
   "execution_count": null,
   "metadata": {},
   "outputs": [],
   "source": [
    "def trend(time, slope=0):\n",
    "    return slope * time\n",
    "\n",
    "\n",
    "def seasonal_pattern(season_time):\n",
    "    \n",
    "    return np.where(season_time < 0.4,\n",
    "                    np.cos(season_time * 2 * np.pi),\n",
    "                    1 / np.exp(3 * season_time))\n",
    "\n",
    "\n",
    "def seasonality(time, period, amplitude=1, phase=0):\n",
    "    season_time = ((time + phase) % period) / period\n",
    "    return amplitude * seasonal_pattern(season_time)\n",
    "\n",
    "\n",
    "def noise(time, noise_level=1, seed=None):\n",
    "    rnd = np.random.RandomState(seed)\n",
    "    return rnd.randn(len(time)) * noise_level\n",
    "\n",
    "def plot_series(time, series, format=\"-\", start=0, end=None):\n",
    "    plt.plot(time[start:end], series[start:end], format)\n",
    "    plt.xlabel(\"Time\")\n",
    "    plt.ylabel(\"Value\")\n",
    "    plt.grid(True)"
   ]
  },
  {
   "cell_type": "code",
   "execution_count": null,
   "metadata": {},
   "outputs": [],
   "source": [
    "# Config of creating time series\n",
    "time = np.arange(120, dtype=\"float32\")\n",
    "baseline = 10\n",
    "series = trend(time, 0.1)\n",
    "baseline = 10\n",
    "amplitude = 40\n",
    "slope = 0.05\n",
    "noise_level = 5"
   ]
  },
  {
   "cell_type": "markdown",
   "metadata": {},
   "source": [
    "We initialize the time series"
   ]
  },
  {
   "cell_type": "code",
   "execution_count": null,
   "metadata": {},
   "outputs": [],
   "source": [
    "# Create the time series\n",
    "series = baseline + trend(time, slope) + seasonality(time, period=365,\n",
    "                                                     amplitude=amplitude)\n",
    "# Update with noise\n",
    "series += noise(time, noise_level, seed=42)"
   ]
  },
  {
   "cell_type": "markdown",
   "metadata": {},
   "source": [
    "and plot it"
   ]
  },
  {
   "cell_type": "code",
   "execution_count": null,
   "metadata": {},
   "outputs": [],
   "source": [
    "plot_series(time,series)"
   ]
  },
  {
   "cell_type": "code",
   "execution_count": null,
   "metadata": {},
   "outputs": [],
   "source": [
    "### WRITE SOLUTION HERE ###\n",
    "\n",
    "### WRITE SOLUTION HERE ###"
   ]
  },
  {
   "cell_type": "code",
   "execution_count": null,
   "metadata": {},
   "outputs": [],
   "source": [
    "accumulators, a, y_pred = rnn_forward(x, a0, dict_parameters)"
   ]
  },
  {
   "cell_type": "code",
   "execution_count": null,
   "metadata": {},
   "outputs": [],
   "source": [
    "### WRITE SOLUTION HERE ###\n",
    "\n",
    "### WRITE SOLUTION HERE ###"
   ]
  },
  {
   "cell_type": "markdown",
   "metadata": {},
   "source": [
    "# Home Assignment No. 4: Part 2 (Theory)\n",
    "In this part of the homework you are to solve several simple theoretical problems related to time series forecasting algorithms.\n",
    "* For every separate problem you can get only 0 points or maximal points for this problem. There are **NO INTERMEDIATE scores**.\n",
    "* Your solution must me **COMPLETE**, i.e. contain all required formulas/proofs/detailed explanations.\n",
    "* You must write your solution for any problem right after the words **YOUR SOLUTION**. Attaching pictures of your handwriting is allowed, but **highly discouraged**.\n",
    "## $\\LaTeX$ in Jupyter\n",
    "Jupyter has constantly improving $\\LaTeX$ support. Below are the basic methods to\n",
    "write **neat, tidy, and well typeset** equations in your notebooks:\n",
    "* to write an **inline** equation use \n",
    "```markdown\n",
    "$ you latex equation here $\n",
    "```\n",
    "* to write an equation, that is **displayed on a separate line** use \n",
    "```markdown\n",
    "$$ you latex equation here $$\n",
    "```\n",
    "* to write a **block of equations** use \n",
    "```markdown\n",
    "\\begin{align}\n",
    "    left-hand-side\n",
    "        &= right-hand-side on line 1\n",
    "        \\\\\n",
    "        &= right-hand-side on line 2\n",
    "        \\\\\n",
    "        &= right-hand-side on the last line\n",
    "\\end{align}\n",
    "```\n",
    "The **ampersand** (`&`) aligns the equations horizontally and the **double backslash**\n",
    "(`\\\\`) creates a new line.\n",
    "\n",
    "## The ARMA Process\n",
    "The family of ARMA processses (such as ARIMA and SARIMA) plays a major role in times series forecasting. In the first half of the homework, we will look deeper into understanding important elements around ARMA.\n",
    "\n",
    "We start by remembering that for a time series $\\{X_t\\}$ with $E(X^2_t) < \\infty$, its mean function is defined by $\\mu_X(t) = E(X_t)$ and the sample mean, for the $x_1, \\ldots, x_n$ observations by $\\bar{x} = \\frac{1}{n} \\sum^n_{t=1} x_t$. \n",
    "\n",
    "Similarly, its covariance function is \n",
    "$$\n",
    "\\begin{aligned}\n",
    "\\gamma_X(r,s) = Cov(X_r, X_s) \\\\ \n",
    "= E[(X_r - \\mu_X(r))(X_s - \\mu_X(s))]\n",
    "\\end{aligned}\n",
    "$$ \n",
    "for all integers $r$ and $s$. \n",
    "\n",
    "We know that for $\\{X_t\\}$ to be (weakly) stationary, it must fulfill two conditions. First, $\\mu_X(t)$ must be independent of $t$, and $\\gamma_X(t+h, t)$ must be also independent of $t$ for each h.\n",
    "\n",
    "In the seminar, we applied the autocovariance and the autocorrelation functions to a dataset without deeper discussing their definition. Now, we look deeper into them.\n",
    "\n",
    "#### Autocovariance function\n",
    "The autocovariance function or ACVF of $\\{X_t\\}$ at lag $h$ is $\\gamma X(h) = Cov(X_{t+h}, X_t)$.\n",
    "\n",
    "For the observations $x_1, \\ldots, x_n$, the sample autocovariance function can be similarly defined by\n",
    "$$\n",
    "\\begin{aligned}\n",
    "\\hat{\\gamma} (h) := n^{-1} \\sum^{n - |h|}_{t=1} (x_{t+|h|} - \\bar{x})(x_t - \\bar{x})\n",
    "\\end{aligned}\n",
    "$$ \n",
    "for $-n < h < n$\n",
    "\n",
    "#### Autocorrelation function\n",
    "The autocorrelation function or ACF makes use of ACVF as following $\\rho_X(h) = \\frac{\\gamma X(h)}{\\gamma X(0)} = Cor(X_{t+h}, X_t)$.\n",
    "\n",
    "Similarly, we can write the sample autocorrelation function as \n",
    "$$\n",
    "\\begin{aligned}\n",
    "\\hat{\\rho} (h) = \\frac{\\hat{\\gamma}(h)}{\\hat{\\gamma}(0)}\n",
    "\\end{aligned}\n",
    "$$ \n",
    "for $-n < h < n$\n",
    "\n",
    "Let's also remember a useful property of covariances, the linear property. It means that if that if $EX^2 < \\infty ,EY^2 < \\infty,EZ^2 < \\infty$ and $a$,$b$,and $c$ are any real constants, then, we can do $Cov(aX + bY + c, Z) = a Cov(X, Z) + b Cov(Y, Z)$.\n",
    "\n",
    "One of the cornerstones of classic forecasting is the Moving Average Process $MA(q)$. It can be defined, if the time series $\\{X_t\\}$ is $Xt = Z_t + \\theta_{1}Z_{t−1} +\\ldots+ \\theta_{q}Z_{t−q}$, where $\\{Z_t\\} \\sim WN(0,\\sigma^2)$, and $\\theta_{1},\\ldots,\\theta_{q}$ are constants, and $WN$, White Noise, being a sequence of uncorrelated random variables, each with zero mean and variance $\\sigma^2$ defined by $\\sigma^2 = E(X − \\mu)^2$. \n",
    "\n",
    "Let's put this into practice!"
   ]
  },
  {
   "cell_type": "markdown",
   "metadata": {},
   "source": [
    "## Task 1. MA(2) (1+1+1=3 points)\n",
    "Let's define a MA(2) with a white noise function of mean 0 and variance 1. Please do the following (**explicitly** outline all your computations):\n",
    "* **(1 pt.)** For $\\theta = 0.9$, derive the formula for the autocovariance and autocorrelation functions for this process.\n",
    "* **(1 pt.)** For $\\theta = 0.9$, compute the variance of the sample mean $(X_1 + X_2 + X_3 + X_4)/4$.\n",
    "* **(1 pt.)** If now we change our $\\theta$ to $-0.9$, what happens? What is the effect of a negative covariance? Please compare the result with the previous computation and **provide an explanation**.\n",
    "### Your Solution:"
   ]
  },
  {
   "cell_type": "markdown",
   "metadata": {},
   "source": [
    "*** Please type here your solution ***"
   ]
  },
  {
   "cell_type": "markdown",
   "metadata": {},
   "source": [
    "## Task 2. Stationary processes (1+1=2 points)\n",
    "Assume that $\\{Y_t\\}$ represents a sequence with zero mean and variance $\\sigma^2$, let $a$ and $b$ are two constants. Are the following processes stationary? If they are, what would be their respective autocovariance and mean? \n",
    "* **(1 pt.)** $b + aY_0$\n",
    "* **(1 pt.)** $Y_{t}Y_{t-1}$\n",
    "\n",
    "Explicitly clarify your answer and please provide all necessary steps behind your reasoning.\n",
    "### Your Solution:"
   ]
  },
  {
   "cell_type": "markdown",
   "metadata": {},
   "source": [
    "*** Please type here your solution ***"
   ]
  },
  {
   "cell_type": "markdown",
   "metadata": {},
   "source": [
    "## Task 3. Questionable processes (1 point)\n",
    "Assume that we have two moving average processes MA(1) and $0 < |\\theta| < 1$. The first process is defined by $Q_t + \\frac{1}{\\theta}Q_{t-1}$. It has a White Noise with variance $\\sigma^2\\theta^2$ and zero mean. The second one is $S_t + \\theta S_{t−1}$ with a White Noise with zero mean and variance $\\sigma^2$.\n",
    "\n",
    "Do they have the same autocovariance functions? Answer this question by deriving exact \n",
    "analytic formulas for autocovariation functions.\n",
    "### Your solution"
   ]
  },
  {
   "cell_type": "markdown",
   "metadata": {},
   "source": [
    "*** Please type here your solution ***"
   ]
  },
  {
   "cell_type": "markdown",
   "metadata": {},
   "source": [
    "## ARMA\n",
    "Let's start by defining the ARMA(p, q) process for a time series ${Xt}$. This is the case if the time series is stationary and for every $t$, it satisfies\n",
    "$$\n",
    "\\begin{aligned}\n",
    "X_t − \\phi X_{t−1} - \\ldots -  \\phi_p X_{t−p} = Z_{t} + \\theta Z_{t−1} + \\ldots + \\theta_q Z_{t-q},\n",
    "\\end{aligned}\n",
    "$$\n",
    "\n",
    "where ${Z_t} \\sim WN(0, \\sigma^2)$ In addition, the polynomials $1+ \\theta_{1}z + \\ldots + \\theta_{q}z^q$ and $1 − \\phi_{1}z − \\ldots − \\phi_{p}z^p$ have no common factors.\n",
    "\n",
    "\n",
    "\n",
    "If we define $B$ by the Backwards Shift Operator $BX_{t} = X_{t−1}$ or more generally $B^j X_t = X_{t−j}, B^j Z_t = Z_{t−j}, j = 0, \\pm 1, \\ldots$, we can write this more cleanly as \n",
    "$$\n",
    "\\begin{aligned}\n",
    "\\phi(B)X_t = \\theta(B)Z_t,\n",
    "\\end{aligned}\n",
    "$$\n",
    "\n",
    "where $\\phi()$ and $\\theta()$ are the p-th and q-th-degree polynomials: $\\phi(z) = 1 − \\phi_1 z − \\ldots − \\phi_{p} z^p$ and\n",
    "$\\theta(z) = 1 + \\theta_1 z + \\ldots + \\theta_{q}z^q$.\n",
    "### The Partial Autocorrelation Function\n",
    "The partial autocorrelation function (PACF) of an ARMA process $\\{X_t\\}$ is the function $\\alpha()$ defined by the equations\n",
    "\n",
    "$$\\alpha(0) = 1 \\qquad \\text{and}\\qquad \\alpha(h) = \\phi_{hh}\\text{, } h \\geq 1,$$\n",
    "\n",
    "where $\\phi_{hh}$ is the last component of $\\phi_{h} = \\Gamma^{-1}_h \\gamma_h$. Here, $\\Gamma_h = [\\gamma(i - j)]^h_{i,j = 1}$ and $\\gamma_h = [\\gamma(1), \\gamma(2), \\ldots, \\gamma(h)]$\n",
    "\n",
    "Similarly, the sample PACF is the funciton $\\hat{\\alpha}()$, where \n",
    "\n",
    "$$\\hat{\\alpha}(0) = 1\\qquad \\text{and} \\qquad \\hat{\\alpha}(h) = \\hat{\\phi}_{hh}\\text{, } h \\geq 1,$$\n",
    "where $\\hat{\\phi}_{hh}$ is the last component of $\\hat{\\phi}_{h} = \\Gamma^{-1}_h \\hat{\\gamma}_h$"
   ]
  },
  {
   "cell_type": "markdown",
   "metadata": {},
   "source": [
    "## Task 4. ARMA (3 points)\n",
    "Assuming that the best linear predictor of $X_{h+1}$ can be estimated as $\\hat{X}_{h+1} = \\sum^h_{i=1} \\phi_{hi} X_{h+1-i}$, compute the PACF $\\alpha(2)$ of the moving average process MA(1) defined by $X_t = Q_t + \\theta Q_{t-1}$, where $\\{Q_t\\}$ is a White Noise with zero mean and variance $\\sigma^2$.\n",
    "### Your solution"
   ]
  },
  {
   "cell_type": "markdown",
   "metadata": {},
   "source": [
    "*** Please type here your solution ***"
   ]
  },
  {
   "cell_type": "code",
   "execution_count": null,
   "metadata": {},
   "outputs": [],
   "source": []
  }
 ],
 "metadata": {
  "kernelspec": {
   "display_name": "Python 3",
   "language": "python",
   "name": "python3"
  },
  "language_info": {
   "codemirror_mode": {
    "name": "ipython",
    "version": 3
   },
   "file_extension": ".py",
   "mimetype": "text/x-python",
   "name": "python",
   "nbconvert_exporter": "python",
   "pygments_lexer": "ipython3",
   "version": "3.7.3"
  }
 },
 "nbformat": 4,
 "nbformat_minor": 4
}
